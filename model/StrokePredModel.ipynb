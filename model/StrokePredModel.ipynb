{
  "cells": [
    {
      "cell_type": "code",
      "execution_count": 7,
      "metadata": {
        "id": "eP8wmTeJ6Nrk"
      },
      "outputs": [],
      "source": [
        "import pandas as pd\n",
        "import matplotlib.pyplot as plt\n",
        "%matplotlib inline\n",
        "import seaborn as sns\n",
        "plt.rcParams['figure.figsize'] = (5, 5)"
      ]
    },
    {
      "cell_type": "code",
      "execution_count": 8,
      "metadata": {
        "id": "MdaporoT6of1"
      },
      "outputs": [],
      "source": [
        "data = pd.read_csv(\"healthcare-dataset-stroke-data.csv\")"
      ]
    },
    {
      "cell_type": "code",
      "execution_count": 9,
      "metadata": {
        "colab": {
          "base_uri": "https://localhost:8080/"
        },
        "id": "-YgDLrn460rk",
        "outputId": "3cb12941-9840-49cd-d2ea-a4b092fdb07f"
      },
      "outputs": [
        {
          "data": {
            "text/plain": [
              "(5110, 12)"
            ]
          },
          "execution_count": 9,
          "metadata": {},
          "output_type": "execute_result"
        }
      ],
      "source": [
        "data.shape\n"
      ]
    },
    {
      "cell_type": "code",
      "execution_count": 10,
      "metadata": {
        "colab": {
          "base_uri": "https://localhost:8080/"
        },
        "id": "z1mTQBt663yA",
        "outputId": "65ce250b-a214-4592-a397-fc514a9bb3f1"
      },
      "outputs": [
        {
          "name": "stdout",
          "output_type": "stream",
          "text": [
            "<class 'pandas.core.frame.DataFrame'>\n",
            "RangeIndex: 5110 entries, 0 to 5109\n",
            "Data columns (total 12 columns):\n",
            " #   Column             Non-Null Count  Dtype  \n",
            "---  ------             --------------  -----  \n",
            " 0   id                 5110 non-null   int64  \n",
            " 1   gender             5110 non-null   object \n",
            " 2   age                5110 non-null   float64\n",
            " 3   hypertension       5110 non-null   int64  \n",
            " 4   heart_disease      5110 non-null   int64  \n",
            " 5   ever_married       5110 non-null   object \n",
            " 6   work_type          5110 non-null   object \n",
            " 7   Residence_type     5110 non-null   object \n",
            " 8   avg_glucose_level  5110 non-null   float64\n",
            " 9   bmi                4909 non-null   float64\n",
            " 10  smoking_status     5110 non-null   object \n",
            " 11  stroke             5110 non-null   int64  \n",
            "dtypes: float64(3), int64(4), object(5)\n",
            "memory usage: 479.2+ KB\n"
          ]
        }
      ],
      "source": [
        "data.info()"
      ]
    },
    {
      "cell_type": "code",
      "execution_count": 11,
      "metadata": {
        "colab": {
          "base_uri": "https://localhost:8080/",
          "height": 460
        },
        "id": "fetqfEJl65AU",
        "outputId": "d67c0798-b6f6-435d-f2dc-182ae6bc03c4"
      },
      "outputs": [
        {
          "data": {
            "text/plain": [
              "id                     0\n",
              "gender                 0\n",
              "age                    0\n",
              "hypertension           0\n",
              "heart_disease          0\n",
              "ever_married           0\n",
              "work_type              0\n",
              "Residence_type         0\n",
              "avg_glucose_level      0\n",
              "bmi                  201\n",
              "smoking_status         0\n",
              "stroke                 0\n",
              "dtype: int64"
            ]
          },
          "execution_count": 11,
          "metadata": {},
          "output_type": "execute_result"
        }
      ],
      "source": [
        "data.isnull().sum()"
      ]
    },
    {
      "cell_type": "code",
      "execution_count": 12,
      "metadata": {
        "colab": {
          "base_uri": "https://localhost:8080/",
          "height": 489
        },
        "id": "UK1wGf0B66eB",
        "outputId": "95316b0f-ef73-4233-f843-3a4b5ae17d55"
      },
      "outputs": [
        {
          "data": {
            "text/plain": [
              "bmi\n",
              "28.7    41\n",
              "28.4    38\n",
              "26.7    37\n",
              "27.6    37\n",
              "26.1    37\n",
              "        ..\n",
              "48.7     1\n",
              "49.2     1\n",
              "51.0     1\n",
              "49.4     1\n",
              "14.9     1\n",
              "Name: count, Length: 418, dtype: int64"
            ]
          },
          "execution_count": 12,
          "metadata": {},
          "output_type": "execute_result"
        }
      ],
      "source": [
        "\n",
        "data['bmi'].value_counts()"
      ]
    },
    {
      "cell_type": "code",
      "execution_count": 13,
      "metadata": {
        "colab": {
          "base_uri": "https://localhost:8080/",
          "height": 335
        },
        "id": "ZqqqbU4m7MkE",
        "outputId": "ff299fd6-4037-4862-d338-a3451292bbd2"
      },
      "outputs": [
        {
          "data": {
            "text/plain": [
              "count    4909.000000\n",
              "mean       28.893237\n",
              "std         7.854067\n",
              "min        10.300000\n",
              "25%        23.500000\n",
              "50%        28.100000\n",
              "75%        33.100000\n",
              "max        97.600000\n",
              "Name: bmi, dtype: float64"
            ]
          },
          "execution_count": 13,
          "metadata": {},
          "output_type": "execute_result"
        }
      ],
      "source": [
        "data['bmi'].describe()"
      ]
    },
    {
      "cell_type": "code",
      "execution_count": 14,
      "metadata": {
        "colab": {
          "base_uri": "https://localhost:8080/"
        },
        "id": "YzyPWJ-97SZH",
        "outputId": "1c60d7a6-e192-4fd1-f007-ef5b6d00c189"
      },
      "outputs": [],
      "source": [
        "data['bmi'].fillna(data['bmi'].mean(),inplace=True)"
      ]
    },
    {
      "cell_type": "code",
      "execution_count": 15,
      "metadata": {
        "colab": {
          "base_uri": "https://localhost:8080/",
          "height": 335
        },
        "id": "D9Dup9S77YOJ",
        "outputId": "39622607-c8a4-4943-9d2d-75ea63921edc"
      },
      "outputs": [
        {
          "data": {
            "text/plain": [
              "count    5110.000000\n",
              "mean       28.893237\n",
              "std         7.698018\n",
              "min        10.300000\n",
              "25%        23.800000\n",
              "50%        28.400000\n",
              "75%        32.800000\n",
              "max        97.600000\n",
              "Name: bmi, dtype: float64"
            ]
          },
          "execution_count": 15,
          "metadata": {},
          "output_type": "execute_result"
        }
      ],
      "source": [
        "data['bmi'].describe()"
      ]
    },
    {
      "cell_type": "code",
      "execution_count": 16,
      "metadata": {
        "colab": {
          "base_uri": "https://localhost:8080/",
          "height": 460
        },
        "id": "c4jAM_h_7sSt",
        "outputId": "8e968e9e-2ff1-4f38-db39-63321bddea99"
      },
      "outputs": [
        {
          "data": {
            "text/plain": [
              "id                   0\n",
              "gender               0\n",
              "age                  0\n",
              "hypertension         0\n",
              "heart_disease        0\n",
              "ever_married         0\n",
              "work_type            0\n",
              "Residence_type       0\n",
              "avg_glucose_level    0\n",
              "bmi                  0\n",
              "smoking_status       0\n",
              "stroke               0\n",
              "dtype: int64"
            ]
          },
          "execution_count": 16,
          "metadata": {},
          "output_type": "execute_result"
        }
      ],
      "source": [
        "\n",
        "data.isnull().sum()"
      ]
    },
    {
      "cell_type": "code",
      "execution_count": 17,
      "metadata": {
        "id": "1xq4ghyW7u1r"
      },
      "outputs": [],
      "source": [
        "data.drop('id',axis=1,inplace=True)"
      ]
    },
    {
      "cell_type": "code",
      "execution_count": 18,
      "metadata": {
        "colab": {
          "base_uri": "https://localhost:8080/",
          "height": 513
        },
        "id": "yIzl8Ael7z3E",
        "outputId": "bfcd238e-95cf-4de2-b097-4cb95b1a8424"
      },
      "outputs": [
        {
          "data": {
            "text/html": [
              "<div>\n",
              "<style scoped>\n",
              "    .dataframe tbody tr th:only-of-type {\n",
              "        vertical-align: middle;\n",
              "    }\n",
              "\n",
              "    .dataframe tbody tr th {\n",
              "        vertical-align: top;\n",
              "    }\n",
              "\n",
              "    .dataframe thead th {\n",
              "        text-align: right;\n",
              "    }\n",
              "</style>\n",
              "<table border=\"1\" class=\"dataframe\">\n",
              "  <thead>\n",
              "    <tr style=\"text-align: right;\">\n",
              "      <th></th>\n",
              "      <th>gender</th>\n",
              "      <th>age</th>\n",
              "      <th>hypertension</th>\n",
              "      <th>heart_disease</th>\n",
              "      <th>ever_married</th>\n",
              "      <th>work_type</th>\n",
              "      <th>Residence_type</th>\n",
              "      <th>avg_glucose_level</th>\n",
              "      <th>bmi</th>\n",
              "      <th>smoking_status</th>\n",
              "      <th>stroke</th>\n",
              "    </tr>\n",
              "  </thead>\n",
              "  <tbody>\n",
              "    <tr>\n",
              "      <th>0</th>\n",
              "      <td>Male</td>\n",
              "      <td>67.0</td>\n",
              "      <td>0</td>\n",
              "      <td>1</td>\n",
              "      <td>Yes</td>\n",
              "      <td>Private</td>\n",
              "      <td>Urban</td>\n",
              "      <td>228.69</td>\n",
              "      <td>36.600000</td>\n",
              "      <td>formerly smoked</td>\n",
              "      <td>1</td>\n",
              "    </tr>\n",
              "    <tr>\n",
              "      <th>1</th>\n",
              "      <td>Female</td>\n",
              "      <td>61.0</td>\n",
              "      <td>0</td>\n",
              "      <td>0</td>\n",
              "      <td>Yes</td>\n",
              "      <td>Self-employed</td>\n",
              "      <td>Rural</td>\n",
              "      <td>202.21</td>\n",
              "      <td>28.893237</td>\n",
              "      <td>never smoked</td>\n",
              "      <td>1</td>\n",
              "    </tr>\n",
              "    <tr>\n",
              "      <th>2</th>\n",
              "      <td>Male</td>\n",
              "      <td>80.0</td>\n",
              "      <td>0</td>\n",
              "      <td>1</td>\n",
              "      <td>Yes</td>\n",
              "      <td>Private</td>\n",
              "      <td>Rural</td>\n",
              "      <td>105.92</td>\n",
              "      <td>32.500000</td>\n",
              "      <td>never smoked</td>\n",
              "      <td>1</td>\n",
              "    </tr>\n",
              "    <tr>\n",
              "      <th>3</th>\n",
              "      <td>Female</td>\n",
              "      <td>49.0</td>\n",
              "      <td>0</td>\n",
              "      <td>0</td>\n",
              "      <td>Yes</td>\n",
              "      <td>Private</td>\n",
              "      <td>Urban</td>\n",
              "      <td>171.23</td>\n",
              "      <td>34.400000</td>\n",
              "      <td>smokes</td>\n",
              "      <td>1</td>\n",
              "    </tr>\n",
              "    <tr>\n",
              "      <th>4</th>\n",
              "      <td>Female</td>\n",
              "      <td>79.0</td>\n",
              "      <td>1</td>\n",
              "      <td>0</td>\n",
              "      <td>Yes</td>\n",
              "      <td>Self-employed</td>\n",
              "      <td>Rural</td>\n",
              "      <td>174.12</td>\n",
              "      <td>24.000000</td>\n",
              "      <td>never smoked</td>\n",
              "      <td>1</td>\n",
              "    </tr>\n",
              "    <tr>\n",
              "      <th>...</th>\n",
              "      <td>...</td>\n",
              "      <td>...</td>\n",
              "      <td>...</td>\n",
              "      <td>...</td>\n",
              "      <td>...</td>\n",
              "      <td>...</td>\n",
              "      <td>...</td>\n",
              "      <td>...</td>\n",
              "      <td>...</td>\n",
              "      <td>...</td>\n",
              "      <td>...</td>\n",
              "    </tr>\n",
              "    <tr>\n",
              "      <th>5105</th>\n",
              "      <td>Female</td>\n",
              "      <td>80.0</td>\n",
              "      <td>1</td>\n",
              "      <td>0</td>\n",
              "      <td>Yes</td>\n",
              "      <td>Private</td>\n",
              "      <td>Urban</td>\n",
              "      <td>83.75</td>\n",
              "      <td>28.893237</td>\n",
              "      <td>never smoked</td>\n",
              "      <td>0</td>\n",
              "    </tr>\n",
              "    <tr>\n",
              "      <th>5106</th>\n",
              "      <td>Female</td>\n",
              "      <td>81.0</td>\n",
              "      <td>0</td>\n",
              "      <td>0</td>\n",
              "      <td>Yes</td>\n",
              "      <td>Self-employed</td>\n",
              "      <td>Urban</td>\n",
              "      <td>125.20</td>\n",
              "      <td>40.000000</td>\n",
              "      <td>never smoked</td>\n",
              "      <td>0</td>\n",
              "    </tr>\n",
              "    <tr>\n",
              "      <th>5107</th>\n",
              "      <td>Female</td>\n",
              "      <td>35.0</td>\n",
              "      <td>0</td>\n",
              "      <td>0</td>\n",
              "      <td>Yes</td>\n",
              "      <td>Self-employed</td>\n",
              "      <td>Rural</td>\n",
              "      <td>82.99</td>\n",
              "      <td>30.600000</td>\n",
              "      <td>never smoked</td>\n",
              "      <td>0</td>\n",
              "    </tr>\n",
              "    <tr>\n",
              "      <th>5108</th>\n",
              "      <td>Male</td>\n",
              "      <td>51.0</td>\n",
              "      <td>0</td>\n",
              "      <td>0</td>\n",
              "      <td>Yes</td>\n",
              "      <td>Private</td>\n",
              "      <td>Rural</td>\n",
              "      <td>166.29</td>\n",
              "      <td>25.600000</td>\n",
              "      <td>formerly smoked</td>\n",
              "      <td>0</td>\n",
              "    </tr>\n",
              "    <tr>\n",
              "      <th>5109</th>\n",
              "      <td>Female</td>\n",
              "      <td>44.0</td>\n",
              "      <td>0</td>\n",
              "      <td>0</td>\n",
              "      <td>Yes</td>\n",
              "      <td>Govt_job</td>\n",
              "      <td>Urban</td>\n",
              "      <td>85.28</td>\n",
              "      <td>26.200000</td>\n",
              "      <td>Unknown</td>\n",
              "      <td>0</td>\n",
              "    </tr>\n",
              "  </tbody>\n",
              "</table>\n",
              "<p>5110 rows × 11 columns</p>\n",
              "</div>"
            ],
            "text/plain": [
              "      gender   age  hypertension  heart_disease ever_married      work_type  \\\n",
              "0       Male  67.0             0              1          Yes        Private   \n",
              "1     Female  61.0             0              0          Yes  Self-employed   \n",
              "2       Male  80.0             0              1          Yes        Private   \n",
              "3     Female  49.0             0              0          Yes        Private   \n",
              "4     Female  79.0             1              0          Yes  Self-employed   \n",
              "...      ...   ...           ...            ...          ...            ...   \n",
              "5105  Female  80.0             1              0          Yes        Private   \n",
              "5106  Female  81.0             0              0          Yes  Self-employed   \n",
              "5107  Female  35.0             0              0          Yes  Self-employed   \n",
              "5108    Male  51.0             0              0          Yes        Private   \n",
              "5109  Female  44.0             0              0          Yes       Govt_job   \n",
              "\n",
              "     Residence_type  avg_glucose_level        bmi   smoking_status  stroke  \n",
              "0             Urban             228.69  36.600000  formerly smoked       1  \n",
              "1             Rural             202.21  28.893237     never smoked       1  \n",
              "2             Rural             105.92  32.500000     never smoked       1  \n",
              "3             Urban             171.23  34.400000           smokes       1  \n",
              "4             Rural             174.12  24.000000     never smoked       1  \n",
              "...             ...                ...        ...              ...     ...  \n",
              "5105          Urban              83.75  28.893237     never smoked       0  \n",
              "5106          Urban             125.20  40.000000     never smoked       0  \n",
              "5107          Rural              82.99  30.600000     never smoked       0  \n",
              "5108          Rural             166.29  25.600000  formerly smoked       0  \n",
              "5109          Urban              85.28  26.200000          Unknown       0  \n",
              "\n",
              "[5110 rows x 11 columns]"
            ]
          },
          "execution_count": 18,
          "metadata": {},
          "output_type": "execute_result"
        }
      ],
      "source": [
        "data"
      ]
    },
    {
      "cell_type": "code",
      "execution_count": 19,
      "metadata": {
        "id": "g5w4mOa675eb"
      },
      "outputs": [],
      "source": [
        "from sklearn.preprocessing import LabelEncoder\n",
        "enc=LabelEncoder()"
      ]
    },
    {
      "cell_type": "code",
      "execution_count": 20,
      "metadata": {
        "id": "drDxG-H878fq"
      },
      "outputs": [],
      "source": [
        "gender=enc.fit_transform(data['gender'])\n",
        "smoking_status=enc.fit_transform(data['smoking_status'])\n",
        "work_type=enc.fit_transform(data['work_type'])\n",
        "Residence_type=enc.fit_transform(data['Residence_type'])\n",
        "ever_married=enc.fit_transform(data['ever_married'])"
      ]
    },
    {
      "cell_type": "code",
      "execution_count": 21,
      "metadata": {
        "id": "R2jJqVYS7_kk"
      },
      "outputs": [],
      "source": [
        "data['work_type']=work_type\n",
        "data['ever_married']=ever_married\n",
        "data['Residence_type']=Residence_type\n",
        "data['smoking_status']=smoking_status\n",
        "data['gender']=gender"
      ]
    },
    {
      "cell_type": "code",
      "execution_count": 22,
      "metadata": {
        "colab": {
          "base_uri": "https://localhost:8080/",
          "height": 443
        },
        "id": "OuhDVnSj8A2r",
        "outputId": "3d71642b-c356-41c7-a885-3ad3b9fc79c5"
      },
      "outputs": [
        {
          "data": {
            "text/html": [
              "<div>\n",
              "<style scoped>\n",
              "    .dataframe tbody tr th:only-of-type {\n",
              "        vertical-align: middle;\n",
              "    }\n",
              "\n",
              "    .dataframe tbody tr th {\n",
              "        vertical-align: top;\n",
              "    }\n",
              "\n",
              "    .dataframe thead th {\n",
              "        text-align: right;\n",
              "    }\n",
              "</style>\n",
              "<table border=\"1\" class=\"dataframe\">\n",
              "  <thead>\n",
              "    <tr style=\"text-align: right;\">\n",
              "      <th></th>\n",
              "      <th>gender</th>\n",
              "      <th>age</th>\n",
              "      <th>hypertension</th>\n",
              "      <th>heart_disease</th>\n",
              "      <th>ever_married</th>\n",
              "      <th>work_type</th>\n",
              "      <th>Residence_type</th>\n",
              "      <th>avg_glucose_level</th>\n",
              "      <th>bmi</th>\n",
              "      <th>smoking_status</th>\n",
              "      <th>stroke</th>\n",
              "    </tr>\n",
              "  </thead>\n",
              "  <tbody>\n",
              "    <tr>\n",
              "      <th>0</th>\n",
              "      <td>1</td>\n",
              "      <td>67.0</td>\n",
              "      <td>0</td>\n",
              "      <td>1</td>\n",
              "      <td>1</td>\n",
              "      <td>2</td>\n",
              "      <td>1</td>\n",
              "      <td>228.69</td>\n",
              "      <td>36.600000</td>\n",
              "      <td>1</td>\n",
              "      <td>1</td>\n",
              "    </tr>\n",
              "    <tr>\n",
              "      <th>1</th>\n",
              "      <td>0</td>\n",
              "      <td>61.0</td>\n",
              "      <td>0</td>\n",
              "      <td>0</td>\n",
              "      <td>1</td>\n",
              "      <td>3</td>\n",
              "      <td>0</td>\n",
              "      <td>202.21</td>\n",
              "      <td>28.893237</td>\n",
              "      <td>2</td>\n",
              "      <td>1</td>\n",
              "    </tr>\n",
              "    <tr>\n",
              "      <th>2</th>\n",
              "      <td>1</td>\n",
              "      <td>80.0</td>\n",
              "      <td>0</td>\n",
              "      <td>1</td>\n",
              "      <td>1</td>\n",
              "      <td>2</td>\n",
              "      <td>0</td>\n",
              "      <td>105.92</td>\n",
              "      <td>32.500000</td>\n",
              "      <td>2</td>\n",
              "      <td>1</td>\n",
              "    </tr>\n",
              "    <tr>\n",
              "      <th>3</th>\n",
              "      <td>0</td>\n",
              "      <td>49.0</td>\n",
              "      <td>0</td>\n",
              "      <td>0</td>\n",
              "      <td>1</td>\n",
              "      <td>2</td>\n",
              "      <td>1</td>\n",
              "      <td>171.23</td>\n",
              "      <td>34.400000</td>\n",
              "      <td>3</td>\n",
              "      <td>1</td>\n",
              "    </tr>\n",
              "    <tr>\n",
              "      <th>4</th>\n",
              "      <td>0</td>\n",
              "      <td>79.0</td>\n",
              "      <td>1</td>\n",
              "      <td>0</td>\n",
              "      <td>1</td>\n",
              "      <td>3</td>\n",
              "      <td>0</td>\n",
              "      <td>174.12</td>\n",
              "      <td>24.000000</td>\n",
              "      <td>2</td>\n",
              "      <td>1</td>\n",
              "    </tr>\n",
              "    <tr>\n",
              "      <th>...</th>\n",
              "      <td>...</td>\n",
              "      <td>...</td>\n",
              "      <td>...</td>\n",
              "      <td>...</td>\n",
              "      <td>...</td>\n",
              "      <td>...</td>\n",
              "      <td>...</td>\n",
              "      <td>...</td>\n",
              "      <td>...</td>\n",
              "      <td>...</td>\n",
              "      <td>...</td>\n",
              "    </tr>\n",
              "    <tr>\n",
              "      <th>5105</th>\n",
              "      <td>0</td>\n",
              "      <td>80.0</td>\n",
              "      <td>1</td>\n",
              "      <td>0</td>\n",
              "      <td>1</td>\n",
              "      <td>2</td>\n",
              "      <td>1</td>\n",
              "      <td>83.75</td>\n",
              "      <td>28.893237</td>\n",
              "      <td>2</td>\n",
              "      <td>0</td>\n",
              "    </tr>\n",
              "    <tr>\n",
              "      <th>5106</th>\n",
              "      <td>0</td>\n",
              "      <td>81.0</td>\n",
              "      <td>0</td>\n",
              "      <td>0</td>\n",
              "      <td>1</td>\n",
              "      <td>3</td>\n",
              "      <td>1</td>\n",
              "      <td>125.20</td>\n",
              "      <td>40.000000</td>\n",
              "      <td>2</td>\n",
              "      <td>0</td>\n",
              "    </tr>\n",
              "    <tr>\n",
              "      <th>5107</th>\n",
              "      <td>0</td>\n",
              "      <td>35.0</td>\n",
              "      <td>0</td>\n",
              "      <td>0</td>\n",
              "      <td>1</td>\n",
              "      <td>3</td>\n",
              "      <td>0</td>\n",
              "      <td>82.99</td>\n",
              "      <td>30.600000</td>\n",
              "      <td>2</td>\n",
              "      <td>0</td>\n",
              "    </tr>\n",
              "    <tr>\n",
              "      <th>5108</th>\n",
              "      <td>1</td>\n",
              "      <td>51.0</td>\n",
              "      <td>0</td>\n",
              "      <td>0</td>\n",
              "      <td>1</td>\n",
              "      <td>2</td>\n",
              "      <td>0</td>\n",
              "      <td>166.29</td>\n",
              "      <td>25.600000</td>\n",
              "      <td>1</td>\n",
              "      <td>0</td>\n",
              "    </tr>\n",
              "    <tr>\n",
              "      <th>5109</th>\n",
              "      <td>0</td>\n",
              "      <td>44.0</td>\n",
              "      <td>0</td>\n",
              "      <td>0</td>\n",
              "      <td>1</td>\n",
              "      <td>0</td>\n",
              "      <td>1</td>\n",
              "      <td>85.28</td>\n",
              "      <td>26.200000</td>\n",
              "      <td>0</td>\n",
              "      <td>0</td>\n",
              "    </tr>\n",
              "  </tbody>\n",
              "</table>\n",
              "<p>5110 rows × 11 columns</p>\n",
              "</div>"
            ],
            "text/plain": [
              "      gender   age  hypertension  heart_disease  ever_married  work_type  \\\n",
              "0          1  67.0             0              1             1          2   \n",
              "1          0  61.0             0              0             1          3   \n",
              "2          1  80.0             0              1             1          2   \n",
              "3          0  49.0             0              0             1          2   \n",
              "4          0  79.0             1              0             1          3   \n",
              "...      ...   ...           ...            ...           ...        ...   \n",
              "5105       0  80.0             1              0             1          2   \n",
              "5106       0  81.0             0              0             1          3   \n",
              "5107       0  35.0             0              0             1          3   \n",
              "5108       1  51.0             0              0             1          2   \n",
              "5109       0  44.0             0              0             1          0   \n",
              "\n",
              "      Residence_type  avg_glucose_level        bmi  smoking_status  stroke  \n",
              "0                  1             228.69  36.600000               1       1  \n",
              "1                  0             202.21  28.893237               2       1  \n",
              "2                  0             105.92  32.500000               2       1  \n",
              "3                  1             171.23  34.400000               3       1  \n",
              "4                  0             174.12  24.000000               2       1  \n",
              "...              ...                ...        ...             ...     ...  \n",
              "5105               1              83.75  28.893237               2       0  \n",
              "5106               1             125.20  40.000000               2       0  \n",
              "5107               0              82.99  30.600000               2       0  \n",
              "5108               0             166.29  25.600000               1       0  \n",
              "5109               1              85.28  26.200000               0       0  \n",
              "\n",
              "[5110 rows x 11 columns]"
            ]
          },
          "execution_count": 22,
          "metadata": {},
          "output_type": "execute_result"
        }
      ],
      "source": [
        "data"
      ]
    },
    {
      "cell_type": "code",
      "execution_count": null,
      "metadata": {
        "id": "cqVRw31P8EHe"
      },
      "outputs": [],
      "source": []
    },
    {
      "cell_type": "code",
      "execution_count": 23,
      "metadata": {
        "id": "RoKvqOir8GI8"
      },
      "outputs": [],
      "source": [
        "X=data.drop('stroke',axis=1)"
      ]
    },
    {
      "cell_type": "code",
      "execution_count": 24,
      "metadata": {
        "id": "GOLhilR08ID2"
      },
      "outputs": [],
      "source": [
        "Y=data['stroke']"
      ]
    },
    {
      "cell_type": "code",
      "execution_count": 25,
      "metadata": {
        "id": "X67ci-x78MFI"
      },
      "outputs": [],
      "source": [
        "from sklearn.model_selection import train_test_split\n",
        "X_train, X_test, Y_train, Y_test=train_test_split(X,Y,test_size=0.2,random_state=10)"
      ]
    },
    {
      "cell_type": "code",
      "execution_count": 26,
      "metadata": {
        "id": "5Ay0Pr5g8Px3"
      },
      "outputs": [],
      "source": [
        "from sklearn.preprocessing import StandardScaler\n",
        "std=StandardScaler()"
      ]
    },
    {
      "cell_type": "code",
      "execution_count": 27,
      "metadata": {
        "id": "Mw9yDfee8RJA"
      },
      "outputs": [],
      "source": [
        "X_train_std=std.fit_transform(X_train)\n",
        "X_test_std=std.transform(X_test)\n"
      ]
    },
    {
      "cell_type": "code",
      "execution_count": 28,
      "metadata": {
        "id": "kvdGa1jZ9dh0"
      },
      "outputs": [],
      "source": [
        "from sklearn.linear_model import LogisticRegression\n",
        "lr=LogisticRegression()"
      ]
    },
    {
      "cell_type": "code",
      "execution_count": 29,
      "metadata": {
        "id": "FIDbplseBRT_"
      },
      "outputs": [],
      "source": [
        "from sklearn.metrics import accuracy_score # Import the accuracy_score function\n",
        "\n",
        "# ... your existing code ...\n",
        "\n",
        "lr.fit(X_train_std,Y_train)\n",
        "\n",
        "Y_predict = lr.predict(X_test_std) # Assign the predictions to a variable\n",
        "\n",
        "ac_lr = accuracy_score(Y_test , Y_predict) # Now accuracy_score is defined"
      ]
    },
    {
      "cell_type": "code",
      "execution_count": 30,
      "metadata": {
        "colab": {
          "base_uri": "https://localhost:8080/"
        },
        "id": "u5XS2L-zBKd6",
        "outputId": "41ccad56-6c6e-466b-9203-7203d3df76f6"
      },
      "outputs": [
        {
          "data": {
            "text/plain": [
              "0.9383561643835616"
            ]
          },
          "execution_count": 30,
          "metadata": {},
          "output_type": "execute_result"
        }
      ],
      "source": [
        "ac_lr"
      ]
    },
    {
      "cell_type": "code",
      "execution_count": 31,
      "metadata": {
        "colab": {
          "base_uri": "https://localhost:8080/"
        },
        "id": "FVNuzrYIJxW-",
        "outputId": "667a9529-834f-436c-b0de-af93ca2a5b33"
      },
      "outputs": [
        {
          "data": {
            "text/plain": [
              "array([1], dtype=int64)"
            ]
          },
          "execution_count": 31,
          "metadata": {},
          "output_type": "execute_result"
        }
      ],
      "source": [
        "lr.predict([[0,\t80.0,\t1,\t0,\t1,\t2,\t1,\t83.75,\t28.893237,\t2\t]])"
      ]
    },
    {
      "cell_type": "code",
      "execution_count": 32,
      "metadata": {
        "id": "HuFAhYB0J9x4"
      },
      "outputs": [],
      "source": [
        "import pickle\n",
        "with open('stroke_prediction_model.pickle','wb') as f:\n",
        "    pickle.dump(lr,f)"
      ]
    },
    {
      "cell_type": "code",
      "execution_count": 33,
      "metadata": {},
      "outputs": [],
      "source": [
        "import json\n",
        "columns = {\n",
        "    'data_columns' : [col.lower() for col in X.columns]\n",
        "}\n",
        "with open(\"columns.json\",\"w\") as f:\n",
        "    f.write(json.dumps(columns))"
      ]
    }
  ],
  "metadata": {
    "colab": {
      "provenance": []
    },
    "kernelspec": {
      "display_name": "Python 3",
      "name": "python3"
    },
    "language_info": {
      "codemirror_mode": {
        "name": "ipython",
        "version": 3
      },
      "file_extension": ".py",
      "mimetype": "text/x-python",
      "name": "python",
      "nbconvert_exporter": "python",
      "pygments_lexer": "ipython3",
      "version": "3.11.5"
    }
  },
  "nbformat": 4,
  "nbformat_minor": 0
}
